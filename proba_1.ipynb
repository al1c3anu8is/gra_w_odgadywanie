{
 "cells": [
  {
   "cell_type": "code",
   "execution_count": null,
   "metadata": {},
   "outputs": [],
   "source": [
    "def tworzenie_kodu(dlugosc_kodu): #Definiuję funkcję, która tworzy kod o konkretnej długości cyfr\n",
    "    return [random.randint(0, 9) for _ in range(dlugosc_kodu)] \n"
   ]
  }
 ],
 "metadata": {
  "language_info": {
   "name": "python"
  }
 },
 "nbformat": 4,
 "nbformat_minor": 2
}
