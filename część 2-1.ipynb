{
 "cells": [
  {
   "cell_type": "code",
   "execution_count": null,
   "metadata": {},
   "outputs": [],
   "source": [
    "def powitanie_i_parametry():\n",
    "    \"\"\"Powitanie gracza i ustawienie trybu gry oraz liczby cyfr w kodzie\"\"\"\n",
    "    print(\"Witaj w grze w odgadywanie!\")\n",
    "    tryb_gry = int(input(\"Wybierz tryb gry (1: dwóch graczy, 2: gra z komputerem): \"))\n",
    "    dlugosc_kodu = int(input(\"Podaj liczbę cyfr w kodzie: \"))\n",
    "    return tryb_gry, dlugosc_kodu\n",
    "    def tworzenie_kodu(dlugosc_kodu):\n",
    "    \"\"\"Tworzenie losowego kodu o podanej liczbie cyfr\"\"\"\n",
    "    return [random.randint(0, 9) for _ in range(dlugosc_kodu)]"
   ]
  }
 ],
 "metadata": {
  "language_info": {
   "name": "python"
  }
 },
 "nbformat": 4,
 "nbformat_minor": 2
}
