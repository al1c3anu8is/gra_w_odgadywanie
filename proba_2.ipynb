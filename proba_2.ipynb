{
 "cells": [
  {
   "cell_type": "code",
   "execution_count": null,
   "metadata": {},
   "outputs": [],
   "source": [
    "def rozgrywka_kodu(tryb, dlugosc_szyfru): #Wybór trybu gry: możliwość 1 - gra dla dwóch graczy, możliwość 2 - gra z komputerem.\n",
    "    if tryb == 1:\n",
    "        sekretny_kod = tryb_dla_graczy(dlugosc_szyfru) \n",
    "    elif tryb == 2:\n",
    "        sekretny_kod = tryb_z_komputerem(dlugosc_szyfru) \n",
    "    else:\n",
    "        print(\"Nieprawidłowy tryb gry. Wybierz 1 lub 2.\") #Brak lub nieprawidłowy wybór trybu gry.\n",
    "        return\n",
    "\n",
    "    liczba_prob = 0  #Początkowa liczba prób.\n",
    "\n",
    "    while True: #Gracz zgaduje szyfr, wprowadza swoje zgadywanie.\n",
    "        proba_gracza = wprowadz_kod(dlugosc_szyfru)  \n",
    "        liczba_prob += 1  #Liczy ilość prób.\n"
   ]
  }
 ],
 "metadata": {
  "language_info": {
   "name": "python"
  }
 },
 "nbformat": 4,
 "nbformat_minor": 2
}
